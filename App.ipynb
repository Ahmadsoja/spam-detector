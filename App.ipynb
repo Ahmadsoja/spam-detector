{
 "cells": [
  {
   "cell_type": "code",
   "execution_count": 6,
   "id": "03281f0d-83f1-443d-a79f-059fa9c5ce6c",
   "metadata": {},
   "outputs": [
    {
     "name": "stdout",
     "output_type": "stream",
     "text": [
      "* Running on local URL:  http://127.0.0.1:7860\n",
      "* To create a public link, set `share=True` in `launch()`.\n"
     ]
    },
    {
     "data": {
      "text/html": [
       "<div><iframe src=\"http://127.0.0.1:7860/\" width=\"100%\" height=\"500\" allow=\"autoplay; camera; microphone; clipboard-read; clipboard-write;\" frameborder=\"0\" allowfullscreen></iframe></div>"
      ],
      "text/plain": [
       "<IPython.core.display.HTML object>"
      ]
     },
     "metadata": {},
     "output_type": "display_data"
    },
    {
     "data": {
      "text/plain": []
     },
     "execution_count": 6,
     "metadata": {},
     "output_type": "execute_result"
    }
   ],
   "source": [
    "import gradio as gr\n",
    "import torch\n",
    "import pickle\n",
    "import torch.nn as nn\n",
    "import torch.nn.functional as F\n",
    "from sklearn.feature_extraction.text import TfidfVectorizer\n",
    "\n",
    "# === Model Class for TF-IDF model (required to load)\n",
    "class SpamClassifier(nn.Module):\n",
    "    def __init__(self, input_dim):\n",
    "        super().__init__()\n",
    "        self.fc = nn.Linear(input_dim, 2)\n",
    "\n",
    "    def forward(self, x):\n",
    "        return self.fc(x)\n",
    "\n",
    "# === Load TF-IDF vectorizer and model\n",
    "vectorizer = pickle.load(open(\"vectorizer.pkl\", \"rb\"))\n",
    "tfidf_model = torch.load(\"spam_model.pt\", map_location=torch.device(\"cpu\"), weights_only=False)\n",
    "tfidf_model.eval()\n",
    "\n",
    "# === (Optional) Load LSTM model and word2idx\n",
    "try:\n",
    "    word2idx = pickle.load(open(\"word2idx.pkl\", \"rb\"))\n",
    "    lstm_model = torch.load(\"lstm_model.pt\", map_location=torch.device(\"cpu\"))\n",
    "    lstm_model.eval()\n",
    "    has_lstm = True\n",
    "except:\n",
    "    has_lstm = False\n",
    "\n",
    "# === TF-IDF Prediction\n",
    "def predict_tfidf(text):\n",
    "    x = vectorizer.transform([text]).toarray()\n",
    "    x_tensor = torch.tensor(x, dtype=torch.float32)\n",
    "    with torch.no_grad():\n",
    "        out = tfidf_model(x_tensor)\n",
    "        _, pred = torch.max(out, 1)\n",
    "    return \"SPAM ❌\" if pred.item() == 1 else \"HAM ✅\"\n",
    "\n",
    "# === LSTM Prediction\n",
    "def predict_lstm(text):\n",
    "    if not has_lstm:\n",
    "        return \"⚠️ LSTM model not available.\"\n",
    "\n",
    "    tokens = text.lower().split()\n",
    "    encoded = [word2idx.get(w, 1) for w in tokens]  # 1 = <UNK>\n",
    "    padded = F.pad(torch.tensor(encoded), (0, max(0, 30 - len(encoded))))[:30]\n",
    "\n",
    "    with torch.no_grad():\n",
    "        output = lstm_model(padded.unsqueeze(0))  # Add batch dimension\n",
    "        _, pred = torch.max(output, 1)\n",
    "\n",
    "    return \"SPAM ❌\" if pred.item() == 1 else \"HAM ✅\"\n",
    "\n",
    "# === Gradio Interface\n",
    "def classify(text, model_type):\n",
    "    if model_type == \"TF-IDF\":\n",
    "        return predict_tfidf(text)\n",
    "    else:\n",
    "        return predict_lstm(text)\n",
    "\n",
    "iface = gr.Interface(\n",
    "    fn=classify,\n",
    "    inputs=[gr.Textbox(label=\"Sakonka\"), gr.Radio([\"TF-IDF\", \"LSTM\"], label=\"Zaɓi Model\")],\n",
    "    outputs=\"text\",\n",
    "    title=\"Spam Message Detector\",\n",
    "    description=\"Wannan app yana amfani da TF-IDF ko LSTM domin gano saƙon spam.\"\n",
    ")\n",
    "\n",
    "iface.launch()\n"
   ]
  },
  {
   "cell_type": "code",
   "execution_count": null,
   "id": "fe07fc46-d595-4cb8-99b3-21a43532ae3e",
   "metadata": {},
   "outputs": [],
   "source": []
  }
 ],
 "metadata": {
  "kernelspec": {
   "display_name": "Python 3 (ipykernel)",
   "language": "python",
   "name": "python3"
  },
  "language_info": {
   "codemirror_mode": {
    "name": "ipython",
    "version": 3
   },
   "file_extension": ".py",
   "mimetype": "text/x-python",
   "name": "python",
   "nbconvert_exporter": "python",
   "pygments_lexer": "ipython3",
   "version": "3.13.2"
  }
 },
 "nbformat": 4,
 "nbformat_minor": 5
}
